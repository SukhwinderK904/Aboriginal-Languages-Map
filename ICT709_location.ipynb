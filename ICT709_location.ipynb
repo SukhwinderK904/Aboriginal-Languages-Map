{
 "cells": [
  {
   "cell_type": "code",
   "execution_count": 2,
   "metadata": {},
   "outputs": [],
   "source": [
    "from bottle import route, run, request, response\n",
    "import json\n",
    "from json import dumps\n",
    "\n",
    "import petl as etl\n",
    "from petl import select, look\n",
    "import csv\n",
    "import xml.etree.ElementTree as ET"
   ]
  },
  {
   "cell_type": "code",
   "execution_count": 3,
   "metadata": {},
   "outputs": [],
   "source": [
    "language_locationID = etl.fromcsv(\"language_locationID.csv\")\n",
    "aiatsis_main = \"aiatsis_main.xml\"\n",
    "\n",
    "tree = ET.parse(aiatsis_main)\n",
    "root = tree.getroot()"
   ]
  },
  {
   "cell_type": "code",
   "execution_count": 4,
   "metadata": {},
   "outputs": [],
   "source": [
    "@route(\"/getlanguage\", method = \"GET\")\n",
    "def get():\n",
    "    response.headers['Access-Control-Allow-Origin'] = '*'\n",
    "    response.headers['Content-type'] = 'application/json'\n",
    "    return dumps(aiatsis_main)"
   ]
  },
  {
   "cell_type": "code",
   "execution_count": 5,
   "metadata": {},
   "outputs": [
    {
     "name": "stdout",
     "output_type": "stream",
     "text": [
      "[{'ServiceID': '1', 'Service': 'Languages'}]\n",
      "[{'ServiceID': '1', 'Service': 'Languages'}, {'ServiceID': '2', 'Service': 'Dictionary'}]\n"
     ]
    }
   ],
   "source": [
    "x=0\n",
    "aiatsis_main =[]\n",
    "for row in root:\n",
    "    dict={\"ServiceID\":root[x][0].text, \"Service\":root[x][1].text}\n",
    "    aiatsis_main.append(dict)\n",
    "    x =x+1\n",
    "    print(aiatsis_main)"
   ]
  },
  {
   "cell_type": "code",
   "execution_count": 6,
   "metadata": {},
   "outputs": [],
   "source": [
    "@route(\"/getlocation\")\n",
    "def find_langlocation():\n",
    "    langlocation = request.query.langlocation\n",
    "    response.headers[\"Access-Control-Allow-Origin\"] = '*'\n",
    "    response.headers[\"Content-type\"] = 'application/json'\n",
    "    new_language_locationID = select(language_locationID, lambda rec: rec['services'] == langlocation)\n",
    "    language = etl.cut(new_language_locationID,'language_code','language_name','indigenous_language','english','pronunciation','uri','latitude','longitude')\n",
    "    jsondata =json.JSONEncoder().encode(list(etl.dicts(language)))\n",
    "    return jsondata"
   ]
  },
  {
   "cell_type": "code",
   "execution_count": null,
   "metadata": {},
   "outputs": [
    {
     "name": "stderr",
     "output_type": "stream",
     "text": [
      "Bottle v0.13-dev server starting up (using WSGIRefServer())...\n",
      "Listening on http://localhost:8080/\n",
      "Hit Ctrl-C to quit.\n",
      "\n",
      "C:\\Users\\61410\\Documents\\Sara\\Uni\\semester4\\ICT709\\Final Project\\bottle.py:3681: DeprecationWarning: Flags not at the start of the expression '((?mx)         # ver' (truncated)\n",
      "  patterns = [re.compile(p % pattern_vars) for p in patterns]\n",
      "C:\\Users\\61410\\Documents\\Sara\\Uni\\semester4\\ICT709\\Final Project\\bottle.py:3681: DeprecationWarning: Flags not at the start of the expression '\\\\{\\\\{((?:((?mx)      ' (truncated)\n",
      "  patterns = [re.compile(p % pattern_vars) for p in patterns]\n",
      "127.0.0.1 - - [19/May/2020 21:24:19] \"GET / HTTP/1.1\" 404 726\n",
      "127.0.0.1 - - [19/May/2020 21:24:34] \"GET /getlanguage HTTP/1.1\" 200 89\n",
      "127.0.0.1 - - [19/May/2020 21:25:11] \"GET /getlocation HTTP/1.1\" 200 2\n",
      "127.0.0.1 - - [19/May/2020 21:27:12] \"GET /getlocation?langlocation=2 HTTP/1.1\" 200 213263\n",
      "127.0.0.1 - - [19/May/2020 21:27:17] \"GET /getlocation?langlocation=1 HTTP/1.1\" 200 74023\n",
      "127.0.0.1 - - [19/May/2020 21:27:54] \"GET /getlanguage HTTP/1.1\" 200 89\n",
      "127.0.0.1 - - [19/May/2020 21:27:58] \"GET /getlocation?langlocation=1 HTTP/1.1\" 200 74023\n",
      "127.0.0.1 - - [19/May/2020 21:28:22] \"GET /getlocation?langlocation=undefined HTTP/1.1\" 200 2\n",
      "127.0.0.1 - - [19/May/2020 21:28:22] \"GET /getlanguage HTTP/1.1\" 200 89\n",
      "127.0.0.1 - - [19/May/2020 21:28:24] \"GET /getlocation?langlocation=2 HTTP/1.1\" 200 213263\n",
      "127.0.0.1 - - [19/May/2020 21:28:32] \"GET /getlocation?langlocation=1 HTTP/1.1\" 200 74023\n"
     ]
    }
   ],
   "source": [
    "run(host=\"localhost\", port=8080, debug=True)"
   ]
  },
  {
   "cell_type": "raw",
   "metadata": {},
   "source": []
  },
  {
   "cell_type": "code",
   "execution_count": null,
   "metadata": {},
   "outputs": [],
   "source": []
  }
 ],
 "metadata": {
  "kernelspec": {
   "display_name": "Python 3",
   "language": "python",
   "name": "python3"
  },
  "language_info": {
   "codemirror_mode": {
    "name": "ipython",
    "version": 3
   },
   "file_extension": ".py",
   "mimetype": "text/x-python",
   "name": "python",
   "nbconvert_exporter": "python",
   "pygments_lexer": "ipython3",
   "version": "3.7.1"
  }
 },
 "nbformat": 4,
 "nbformat_minor": 2
}
